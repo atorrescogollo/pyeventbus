{
 "cells": [
  {
   "cell_type": "code",
   "execution_count": 1,
   "metadata": {},
   "outputs": [
    {
     "name": "stderr",
     "output_type": "stream",
     "text": [
      "+ docker rm -f moto\n"
     ]
    },
    {
     "name": "stdout",
     "output_type": "stream",
     "text": [
      "moto\n"
     ]
    },
    {
     "name": "stderr",
     "output_type": "stream",
     "text": [
      "+ docker run -d --rm -p 8000:5000 --name moto motoserver/moto:latest\n"
     ]
    },
    {
     "name": "stdout",
     "output_type": "stream",
     "text": [
      "bd1eb8bc0988e370fc75df2399988d830561be36afd392600b15c43c03139df2\n"
     ]
    },
    {
     "name": "stderr",
     "output_type": "stream",
     "text": [
      "+ cd ./aws_sns.infra\n",
      "+ rm -rf '.terraform.tfstate*'\n"
     ]
    }
   ],
   "source": [
    "%%bash\n",
    "set -xeo pipefail\n",
    "\n",
    "docker rm -f moto\n",
    "docker run -d --rm -p 8000:5000 --name moto motoserver/moto:latest\n",
    "\n",
    "cd ./aws_sns.infra\n",
    "rm -rf .terraform.tfstate* # Clean up any previous state"
   ]
  },
  {
   "cell_type": "code",
   "execution_count": 2,
   "metadata": {},
   "outputs": [
    {
     "name": "stderr",
     "output_type": "stream",
     "text": [
      "+ cd aws_sns.infra\n",
      "+ terraform init\n"
     ]
    },
    {
     "name": "stdout",
     "output_type": "stream",
     "text": [
      "\n",
      "\u001b[0m\u001b[1mInitializing the backend...\u001b[0m\n",
      "\n",
      "\u001b[0m\u001b[1mInitializing provider plugins...\u001b[0m\n",
      "- Reusing previous version of hashicorp/aws from the dependency lock file\n",
      "- Using previously-installed hashicorp/aws v5.31.0\n",
      "\n",
      "\u001b[0m\u001b[1m\u001b[32mTerraform has been successfully initialized!\u001b[0m\u001b[32m\u001b[0m\n",
      "\u001b[0m\u001b[32m\n",
      "You may now begin working with Terraform. Try running \"terraform plan\" to see\n",
      "any changes that are required for your infrastructure. All Terraform commands\n",
      "should now work.\n",
      "\n",
      "If you ever set or change modules or backend configuration for Terraform,\n",
      "rerun this command to reinitialize your working directory. If you forget, other\n",
      "commands will detect it and remind you to do so if necessary.\u001b[0m\n"
     ]
    },
    {
     "name": "stderr",
     "output_type": "stream",
     "text": [
      "+ terraform plan -out=.terraform/planlog\n"
     ]
    },
    {
     "name": "stdout",
     "output_type": "stream",
     "text": [
      "\u001b[0m\u001b[1maws_sns_topic.sender: Refreshing state... [id=arn:aws:sns:us-east-1:123456789012:my-topic]\u001b[0m\n",
      "\u001b[0m\u001b[1maws_sqs_queue.receiver: Refreshing state... [id=http://localhost:8000/123456789012/my-queue]\u001b[0m\n",
      "\u001b[0m\u001b[1maws_sns_topic_subscription.receiver: Refreshing state... [id=arn:aws:sns:us-east-1:123456789012:my-topic:ea42bde3-f226-4f4e-942c-dd857f800c8e]\u001b[0m\n",
      "\n",
      "\u001b[1m\u001b[36mNote:\u001b[0m\u001b[1m Objects have changed outside of Terraform\n",
      "\u001b[0m\n",
      "Terraform detected the following changes made outside of Terraform since the\n",
      "last \"terraform apply\" which may have affected this plan:\n",
      "\n",
      "\u001b[1m  # aws_sns_topic.sender\u001b[0m has been deleted\n",
      "\u001b[0m  \u001b[31m-\u001b[0m\u001b[0m resource \"aws_sns_topic\" \"sender\" {\n",
      "      \u001b[31m-\u001b[0m\u001b[0m arn                                      = \"arn:aws:sns:us-east-1:123456789012:my-topic\" \u001b[90m-> null\u001b[0m\u001b[0m\n",
      "        id                                       = \"arn:aws:sns:us-east-1:123456789012:my-topic\"\n",
      "        name                                     = \"my-topic\"\n",
      "        \u001b[90m# (11 unchanged attributes hidden)\u001b[0m\u001b[0m\n",
      "    }\n",
      "\n",
      "\u001b[1m  # aws_sqs_queue.receiver\u001b[0m has been deleted\n",
      "\u001b[0m  \u001b[31m-\u001b[0m\u001b[0m resource \"aws_sqs_queue\" \"receiver\" {\n",
      "      \u001b[31m-\u001b[0m\u001b[0m arn                               = \"arn:aws:sqs:us-east-1:123456789012:my-queue\" \u001b[90m-> null\u001b[0m\u001b[0m\n",
      "        id                                = \"http://localhost:8000/123456789012/my-queue\"\n",
      "        name                              = \"my-queue\"\n",
      "      \u001b[31m-\u001b[0m\u001b[0m url                               = \"http://localhost:8000/123456789012/my-queue\" \u001b[90m-> null\u001b[0m\u001b[0m\n",
      "        \u001b[90m# (10 unchanged attributes hidden)\u001b[0m\u001b[0m\n",
      "    }\n",
      "\n",
      "\n",
      "Unless you have made equivalent changes to your configuration, or ignored the\n",
      "relevant attributes using ignore_changes, the following plan may include\n",
      "actions to undo or respond to these changes.\n",
      "\u001b[90m\n",
      "─────────────────────────────────────────────────────────────────────────────\u001b[0m\n",
      "\n",
      "Terraform used the selected providers to generate the following execution\n",
      "plan. Resource actions are indicated with the following symbols:\n",
      "  \u001b[32m+\u001b[0m create\u001b[0m\n",
      "\n",
      "Terraform will perform the following actions:\n",
      "\n",
      "\u001b[1m  # aws_sns_topic.sender\u001b[0m will be created\n",
      "\u001b[0m  \u001b[32m+\u001b[0m\u001b[0m resource \"aws_sns_topic\" \"sender\" {\n",
      "      \u001b[32m+\u001b[0m\u001b[0m arn                         = (known after apply)\n",
      "      \u001b[32m+\u001b[0m\u001b[0m beginning_archive_time      = (known after apply)\n",
      "      \u001b[32m+\u001b[0m\u001b[0m content_based_deduplication = false\n",
      "      \u001b[32m+\u001b[0m\u001b[0m fifo_topic                  = false\n",
      "      \u001b[32m+\u001b[0m\u001b[0m id                          = (known after apply)\n",
      "      \u001b[32m+\u001b[0m\u001b[0m name                        = \"my-topic\"\n",
      "      \u001b[32m+\u001b[0m\u001b[0m name_prefix                 = (known after apply)\n",
      "      \u001b[32m+\u001b[0m\u001b[0m owner                       = (known after apply)\n",
      "      \u001b[32m+\u001b[0m\u001b[0m policy                      = (known after apply)\n",
      "      \u001b[32m+\u001b[0m\u001b[0m signature_version           = (known after apply)\n",
      "      \u001b[32m+\u001b[0m\u001b[0m tags_all                    = (known after apply)\n",
      "      \u001b[32m+\u001b[0m\u001b[0m tracing_config              = (known after apply)\n",
      "    }\n",
      "\n",
      "\u001b[1m  # aws_sns_topic_subscription.receiver\u001b[0m will be created\n",
      "\u001b[0m  \u001b[32m+\u001b[0m\u001b[0m resource \"aws_sns_topic_subscription\" \"receiver\" {\n",
      "      \u001b[32m+\u001b[0m\u001b[0m arn                             = (known after apply)\n",
      "      \u001b[32m+\u001b[0m\u001b[0m confirmation_timeout_in_minutes = 1\n",
      "      \u001b[32m+\u001b[0m\u001b[0m confirmation_was_authenticated  = (known after apply)\n",
      "      \u001b[32m+\u001b[0m\u001b[0m endpoint                        = (known after apply)\n",
      "      \u001b[32m+\u001b[0m\u001b[0m endpoint_auto_confirms          = false\n",
      "      \u001b[32m+\u001b[0m\u001b[0m filter_policy_scope             = (known after apply)\n",
      "      \u001b[32m+\u001b[0m\u001b[0m id                              = (known after apply)\n",
      "      \u001b[32m+\u001b[0m\u001b[0m owner_id                        = (known after apply)\n",
      "      \u001b[32m+\u001b[0m\u001b[0m pending_confirmation            = (known after apply)\n",
      "      \u001b[32m+\u001b[0m\u001b[0m protocol                        = \"sqs\"\n",
      "      \u001b[32m+\u001b[0m\u001b[0m raw_message_delivery            = false\n",
      "      \u001b[32m+\u001b[0m\u001b[0m topic_arn                       = (known after apply)\n",
      "    }\n",
      "\n",
      "\u001b[1m  # aws_sqs_queue.receiver\u001b[0m will be created\n",
      "\u001b[0m  \u001b[32m+\u001b[0m\u001b[0m resource \"aws_sqs_queue\" \"receiver\" {\n",
      "      \u001b[32m+\u001b[0m\u001b[0m arn                               = (known after apply)\n",
      "      \u001b[32m+\u001b[0m\u001b[0m content_based_deduplication       = false\n",
      "      \u001b[32m+\u001b[0m\u001b[0m deduplication_scope               = (known after apply)\n",
      "      \u001b[32m+\u001b[0m\u001b[0m delay_seconds                     = 0\n",
      "      \u001b[32m+\u001b[0m\u001b[0m fifo_queue                        = false\n",
      "      \u001b[32m+\u001b[0m\u001b[0m fifo_throughput_limit             = (known after apply)\n",
      "      \u001b[32m+\u001b[0m\u001b[0m id                                = (known after apply)\n",
      "      \u001b[32m+\u001b[0m\u001b[0m kms_data_key_reuse_period_seconds = (known after apply)\n",
      "      \u001b[32m+\u001b[0m\u001b[0m max_message_size                  = 262144\n",
      "      \u001b[32m+\u001b[0m\u001b[0m message_retention_seconds         = 345600\n",
      "      \u001b[32m+\u001b[0m\u001b[0m name                              = \"my-queue\"\n",
      "      \u001b[32m+\u001b[0m\u001b[0m name_prefix                       = (known after apply)\n",
      "      \u001b[32m+\u001b[0m\u001b[0m policy                            = (known after apply)\n",
      "      \u001b[32m+\u001b[0m\u001b[0m receive_wait_time_seconds         = 0\n",
      "      \u001b[32m+\u001b[0m\u001b[0m redrive_allow_policy              = (known after apply)\n",
      "      \u001b[32m+\u001b[0m\u001b[0m redrive_policy                    = (known after apply)\n",
      "      \u001b[32m+\u001b[0m\u001b[0m sqs_managed_sse_enabled           = (known after apply)\n",
      "      \u001b[32m+\u001b[0m\u001b[0m tags_all                          = (known after apply)\n",
      "      \u001b[32m+\u001b[0m\u001b[0m url                               = (known after apply)\n",
      "      \u001b[32m+\u001b[0m\u001b[0m visibility_timeout_seconds        = 30\n",
      "    }\n",
      "\n",
      "\u001b[1mPlan:\u001b[0m 3 to add, 0 to change, 0 to destroy.\n",
      "\u001b[0m\n",
      "Changes to Outputs:\n",
      "  \u001b[33m~\u001b[0m\u001b[0m sns_sender_arn   = \"arn:aws:sns:us-east-1:123456789012:my-topic\" -> (known after apply)\n",
      "  \u001b[33m~\u001b[0m\u001b[0m sqs_receiver_url = \"http://localhost:8000/123456789012/my-queue\" -> (known after apply)\n",
      "\u001b[90m\n",
      "─────────────────────────────────────────────────────────────────────────────\u001b[0m\n",
      "\n",
      "Saved the plan to: .terraform/planlog\n",
      "\n",
      "To perform exactly these actions, run the following command to apply:\n",
      "    terraform apply \".terraform/planlog\"\n"
     ]
    }
   ],
   "source": [
    "%%bash\n",
    "set -xeo pipefail\n",
    "cd aws_sns.infra\n",
    "\n",
    "terraform init\n",
    "terraform plan -out=.terraform/planlog"
   ]
  },
  {
   "cell_type": "code",
   "execution_count": 3,
   "metadata": {},
   "outputs": [
    {
     "name": "stderr",
     "output_type": "stream",
     "text": [
      "+ cd aws_sns.infra\n",
      "+ terraform apply -auto-approve .terraform/planlog\n"
     ]
    },
    {
     "name": "stdout",
     "output_type": "stream",
     "text": [
      "\u001b[0m\u001b[1maws_sqs_queue.receiver: Creating...\u001b[0m\u001b[0m\n",
      "\u001b[0m\u001b[1maws_sns_topic.sender: Creating...\u001b[0m\u001b[0m\n",
      "\u001b[0m\u001b[1maws_sns_topic.sender: Creation complete after 0s [id=arn:aws:sns:us-east-1:123456789012:my-topic]\u001b[0m\n",
      "\u001b[0m\u001b[1maws_sqs_queue.receiver: Still creating... [10s elapsed]\u001b[0m\u001b[0m\n",
      "\u001b[0m\u001b[1maws_sqs_queue.receiver: Still creating... [20s elapsed]\u001b[0m\u001b[0m\n",
      "\u001b[0m\u001b[1maws_sqs_queue.receiver: Creation complete after 25s [id=http://localhost:8000/123456789012/my-queue]\u001b[0m\n",
      "\u001b[0m\u001b[1maws_sns_topic_subscription.receiver: Creating...\u001b[0m\u001b[0m\n",
      "\u001b[0m\u001b[1maws_sns_topic_subscription.receiver: Creation complete after 0s [id=arn:aws:sns:us-east-1:123456789012:my-topic:e86550c4-082e-43d8-a0e8-cac99e5237ff]\u001b[0m\n",
      "\u001b[0m\u001b[1m\u001b[32m\n",
      "Apply complete! Resources: 3 added, 0 changed, 0 destroyed.\n",
      "\u001b[0m\u001b[0m\u001b[1m\u001b[32m\n",
      "Outputs:\n",
      "\n",
      "\u001b[0msns_sender_arn = \"arn:aws:sns:us-east-1:123456789012:my-topic\"\n",
      "sqs_receiver_url = \"http://localhost:8000/123456789012/my-queue\"\n"
     ]
    }
   ],
   "source": [
    "%%bash\n",
    "set -xeo pipefail\n",
    "cd aws_sns.infra\n",
    "terraform apply -auto-approve .terraform/planlog"
   ]
  },
  {
   "cell_type": "code",
   "execution_count": 4,
   "metadata": {},
   "outputs": [],
   "source": [
    "import os\n",
    "import boto3\n",
    "\n",
    "# https://github.com/getmoto/moto/issues/1941#issuecomment-557606526\n",
    "os.environ[\"AWS_ACCESS_KEY_ID\"] = \"testing\"\n",
    "os.environ[\"AWS_SECRET_ACCESS_KEY\"] = \"testing\"\n",
    "os.environ[\"AWS_REGION\"] = \"us-east-1\"\n",
    "\n",
    "sns_sender_arn = \"arn:aws:sns:us-east-1:123456789012:my-topic\"\n",
    "sqs_receiver_url = \"http://localhost:8000/123456789012/my-queue\"\n",
    "\n",
    "sender_topic = boto3.resource(\n",
    "    \"sns\",\n",
    "    region_name=\"us-east-1\",\n",
    "    endpoint_url=\"http://localhost:8000\",\n",
    ").Topic(sns_sender_arn)\n",
    "\n",
    "receiver_queue = boto3.resource(\n",
    "    \"sqs\",\n",
    "    region_name=\"us-east-1\",\n",
    "    endpoint_url=\"http://localhost:8000\",\n",
    ").Queue(sqs_receiver_url)"
   ]
  },
  {
   "cell_type": "code",
   "execution_count": 5,
   "metadata": {},
   "outputs": [],
   "source": [
    "from dataclasses import dataclass\n",
    "from typing import Self\n",
    "from pyeventbus.aws.sns_event_bus import SNSEventBus\n",
    "from pyeventbus.base.domain_event import DomainEvent\n",
    "from pyeventbus.base.eventbus import EventBus\n",
    "\n",
    "eventbus = SNSEventBus(sender_topic)\n",
    "\n",
    "@dataclass\n",
    "class UserCreatedEvent(DomainEvent):\n",
    "    user_id: str\n",
    "    \n",
    "    def to_dict(self) -> dict[str, str]:\n",
    "        return {\"user_id\": self.user_id}\n",
    "\n",
    "    @classmethod\n",
    "    def from_dict(cls, data: dict[str, str]) -> Self:\n",
    "        return cls(data[\"user_id\"])\n",
    "\n",
    "@dataclass\n",
    "class SendWelcomeEmailCommand:\n",
    "    eventbus: EventBus\n",
    "    def __post_init__(self):\n",
    "        self.eventbus.subscribe(\n",
    "            UserCreatedEvent,\n",
    "            lambda event: self.send_welcome_email(event.user_id),\n",
    "            self.__class__,\n",
    "        )\n",
    "\n",
    "    def send_welcome_email(self, user_id: str):\n",
    "        print(\"[MOCKED] Sending email to user_id: \", user_id)\n",
    "\n",
    "SendWelcomeEmailCommand(eventbus) # Register the handler"
   ]
  },
  {
   "cell_type": "code",
   "execution_count": 6,
   "metadata": {},
   "outputs": [],
   "source": [
    "eventbus.publish(UserCreatedEvent(\"1234\"))"
   ]
  },
  {
   "cell_type": "code",
   "execution_count": 7,
   "metadata": {},
   "outputs": [],
   "source": [
    "import json\n",
    "from mypy_boto3_sqs.service_resource import Message\n",
    "\n",
    "messages: list[Message] = []\n",
    "for message in receiver_queue.receive_messages():\n",
    "    messages.append(message)\n",
    "    message.delete()\n",
    "\n",
    "assert len(messages) == 1, \"Expected 1 message\"\n",
    "raw_sns_message = json.loads(messages[0].body)\n",
    "raw_event = json.loads(raw_sns_message[\"Message\"])"
   ]
  },
  {
   "cell_type": "code",
   "execution_count": 8,
   "metadata": {},
   "outputs": [
    {
     "data": {
      "text/plain": [
       "UserCreatedEvent(user_id='1234')"
      ]
     },
     "execution_count": 8,
     "metadata": {},
     "output_type": "execute_result"
    }
   ],
   "source": [
    "domain_event = eventbus.build_event_from_subscriptions(\n",
    "    raw_event[\"event_type\"], raw_event[\"event\"]\n",
    ")\n",
    "domain_event"
   ]
  },
  {
   "cell_type": "code",
   "execution_count": 9,
   "metadata": {},
   "outputs": [
    {
     "name": "stdout",
     "output_type": "stream",
     "text": [
      "[MOCKED] Sending email to user_id:  1234\n"
     ]
    }
   ],
   "source": [
    "assert domain_event, \"Expected a domain event\"\n",
    "for handler_cls in eventbus.get_handlers(type(domain_event)):\n",
    "    eventbus.call_handler(domain_event, handler_cls)"
   ]
  }
 ],
 "metadata": {
  "kernelspec": {
   "display_name": ".venv",
   "language": "python",
   "name": "python3"
  },
  "language_info": {
   "codemirror_mode": {
    "name": "ipython",
    "version": 3
   },
   "file_extension": ".py",
   "mimetype": "text/x-python",
   "name": "python",
   "nbconvert_exporter": "python",
   "pygments_lexer": "ipython3",
   "version": "3.12.0"
  }
 },
 "nbformat": 4,
 "nbformat_minor": 2
}
